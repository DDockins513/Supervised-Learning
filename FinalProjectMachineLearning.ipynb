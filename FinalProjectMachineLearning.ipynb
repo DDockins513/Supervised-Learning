{
  "nbformat": 4,
  "nbformat_minor": 0,
  "metadata": {
    "colab": {
      "provenance": []
    },
    "kernelspec": {
      "name": "python3",
      "display_name": "Python 3"
    },
    "language_info": {
      "name": "python"
    }
  },
  "cells": [
    {
      "cell_type": "markdown",
      "metadata": {
        "id": "xqZC6FfNAObN"
      },
      "source": [
        "# **Supervised Learning: KNN for Binary Classification**\n",
        "---\n",
        "\n",
        "In this part of the exam, you are to create a KNN model to predict the class **`RainToday`**, i.e., whether on a given day it will rain (`RainToday = 1`) or not (`RainToday = 0`)."
      ]
    },
    {
      "cell_type": "markdown",
      "source": [
        "# **Step#0: Importing the Libraries and Python Packages**"
      ],
      "metadata": {
        "id": "7joKZMXURBRC"
      }
    },
    {
      "cell_type": "code",
      "source": [],
      "metadata": {
        "id": "T2ZZgovZTXjk"
      },
      "execution_count": null,
      "outputs": []
    },
    {
      "cell_type": "markdown",
      "source": [
        "# **Step #1: Load the data**\n",
        "\n",
        "This dataset, **rainfall_df**, contains information on whether or not it will rain today in a given Australian city based on the windspeed, humidity, pressure and temperature of the city.\n",
        "\n",
        "Before continuing, run the code below to load your DataFrame."
      ],
      "metadata": {
        "id": "kQP-n0IMMT7x"
      }
    },
    {
      "cell_type": "code",
      "execution_count": null,
      "metadata": {
        "id": "ViuJRDj8Et_t",
        "tags": []
      },
      "outputs": [],
      "source": [
        "url = \"https://docs.google.com/spreadsheets/d/e/2PACX-1vQgXRAZvBDRckm_Ll_LGXM7NTSHgBmoZA93QUDI6PBP37gMtq98ZNEE6PNf-WwUx1SGWT0diVo8JgGb/pub?gid=23834121&single=true&output=csv\"\n",
        "rainfall_df = pd.read_csv(url)\n",
        "rainfall_df = rainfall_df.drop(\"RainTomorrow\", axis=1)\n",
        "rainfall_df = rainfall_df.drop('Location',axis=1)\n",
        "\n",
        "rainfall_df.head()"
      ]
    },
    {
      "cell_type": "markdown",
      "metadata": {
        "id": "W6kdnViVFDwr"
      },
      "source": [
        "# **Step #2: Feature Selection & Data Visualization**\n",
        "---\n",
        "\n",
        "Goal: To determine the best features to use based on their variance and correlations.\n",
        "\n",
        "Compute and display the variance and correlation and answer the following questions:\n",
        "Compute and display the variance and correlation and answer the following questions:\n",
        "- Which two features have the largest variance?\n",
        "- Which feature has the lowest variance?\n",
        "- Which two features have the highest correlation? What does that mean for our data?\n",
        "- Which features have the highest correlation with `RainToday`?\n",
        "- Which features have the lowest correlation with `RainToday`? These should be dropped as they will not likely be useful in trying to predict `RainToday`.\n"
      ]
    },
    {
      "cell_type": "code",
      "execution_count": null,
      "metadata": {
        "id": "ewyh-wrBFKmO",
        "tags": []
      },
      "outputs": [],
      "source": [
        "# Compute the variance of each feature to see which ones might reveal interesting patterns.\n"
      ]
    },
    {
      "cell_type": "code",
      "source": [
        "# Which two features have the largest variance? Which feature has the lowest variance? Write your answers here.\n"
      ],
      "metadata": {
        "id": "V2irJqXxQaWb"
      },
      "execution_count": null,
      "outputs": []
    },
    {
      "cell_type": "code",
      "execution_count": null,
      "metadata": {
        "id": "z_6cTdCXIJyD",
        "tags": []
      },
      "outputs": [],
      "source": [
        "# Compute the correlation between features to see which ones might be redundant.\n"
      ]
    },
    {
      "cell_type": "code",
      "execution_count": null,
      "metadata": {
        "id": "WfsvKtZWkJfk"
      },
      "outputs": [],
      "source": [
        "# Answer the following questions with justification:\n",
        "# Which two features have the highest correlation? What does that mean for our data?\n",
        "\n",
        "\n",
        "# Which features have the highest correlation with RainToday?\n",
        "\n",
        "\n",
        "# Which features have the lowest correlation with RainToday? These should be dropped as they will not likely be useful in trying to predict RainToday.\n",
        "\n"
      ]
    },
    {
      "cell_type": "markdown",
      "metadata": {
        "id": "q5aMibgAFLFs"
      },
      "source": [
        "Based on the analysis above, what are the two best features we might use to predict `RainToday`? Discuss your rationale.\n"
      ]
    },
    {
      "cell_type": "code",
      "execution_count": null,
      "metadata": {
        "id": "31c-ryR46tlM"
      },
      "outputs": [],
      "source": [
        "# Write your answers here.\n"
      ]
    },
    {
      "cell_type": "markdown",
      "metadata": {
        "id": "9st9ltfvwqTT"
      },
      "source": [
        "Since we are building a classifier, it can be useful to look at the scatter plot between the two best features from above and confirm correlation with the class 'rain today.' Each data point should be color-coded according to its class label."
      ]
    },
    {
      "cell_type": "code",
      "execution_count": null,
      "metadata": {
        "id": "2m_Jam1qmoXH",
        "tags": []
      },
      "outputs": [],
      "source": [
        "#Type your code here"
      ]
    },
    {
      "cell_type": "markdown",
      "metadata": {
        "id": "EwVSPdUoidh8"
      },
      "source": [
        "# **Step #3: Create the independent (X) and dependent (y) Arrays**\n"
      ]
    },
    {
      "cell_type": "code",
      "source": [
        "# Type your code here to create the X-array.\n"
      ],
      "metadata": {
        "id": "KiVUzuIvvHtk"
      },
      "execution_count": null,
      "outputs": []
    },
    {
      "cell_type": "code",
      "source": [
        "# Type your code here to create the y-array.\n"
      ],
      "metadata": {
        "id": "_mKRZAdGwKgj"
      },
      "execution_count": null,
      "outputs": []
    },
    {
      "cell_type": "markdown",
      "source": [
        "# **Step#4: Standardizing and Splitting the data into Training and Testing sets**"
      ],
      "metadata": {
        "id": "8cEVrvrEX150"
      }
    },
    {
      "cell_type": "code",
      "execution_count": null,
      "metadata": {
        "id": "ukZQ0YDBm5eR",
        "tags": []
      },
      "outputs": [],
      "source": [
        "# Type your code here\n"
      ]
    },
    {
      "cell_type": "markdown",
      "source": [
        "# **Step#5: Creating, Training, and Testing the KNN model**"
      ],
      "metadata": {
        "id": "xdB1Ph6fY7V0"
      }
    },
    {
      "cell_type": "code",
      "source": [
        "# Type your code here to import the KNN algorithm, initialize the model, and set hyperparameters (K = 5)\n"
      ],
      "metadata": {
        "id": "VFgE-oOkwLC5"
      },
      "execution_count": null,
      "outputs": []
    },
    {
      "cell_type": "code",
      "source": [
        "# Make the scatter plot of the training data and draw the decision boundary.\n"
      ],
      "metadata": {
        "id": "Fm_PkZ-tkPeJ"
      },
      "execution_count": null,
      "outputs": []
    },
    {
      "cell_type": "markdown",
      "source": [
        "# **Step#6: Evaluating performance of the KNN model**"
      ],
      "metadata": {
        "id": "qU3CwHSMZsVs"
      }
    },
    {
      "cell_type": "code",
      "source": [
        "# Type your code here to compute the accuracy score.\n"
      ],
      "metadata": {
        "id": "0FoUoq9fwLPR"
      },
      "execution_count": null,
      "outputs": []
    },
    {
      "cell_type": "code",
      "source": [
        "# Type your code here to create the Confusion Matrix.\n",
        "\n",
        "# Create the confusion matrix in the form of Pandas Dataframe\n"
      ],
      "metadata": {
        "id": "GNKkM1rswLsB"
      },
      "execution_count": null,
      "outputs": []
    },
    {
      "cell_type": "markdown",
      "source": [
        "# **Step#7: Finding the optimal K value of the KNN model**"
      ],
      "metadata": {
        "id": "dQ2fSmVOe_jg"
      }
    },
    {
      "cell_type": "code",
      "source": [
        "# Type your code here.\n",
        "\n",
        "# Print the maximum accuracy score and the corresponding K value\n",
        "\n",
        "# Plot the accuracy score vs. the k values\n"
      ],
      "metadata": {
        "id": "N86CpQI8E5rE"
      },
      "execution_count": null,
      "outputs": []
    },
    {
      "cell_type": "markdown",
      "metadata": {
        "id": "UqhuMqqCQy59"
      },
      "source": [
        "# **Step #8: Use the model to make predictions with new instances**\n",
        "\n"
      ]
    },
    {
      "cell_type": "markdown",
      "metadata": {
        "id": "wXX6tQffqb_Y"
      },
      "source": [
        "##### **1. `Humidity = 85` and `Pressure = 9.8`**\n"
      ]
    },
    {
      "cell_type": "code",
      "execution_count": null,
      "metadata": {
        "id": "NEFYDbnBtQVt",
        "tags": []
      },
      "outputs": [],
      "source": [
        "# Type your code here \n"
      ]
    },
    {
      "cell_type": "markdown",
      "metadata": {
        "id": "Ivd7ne_TxWBF"
      },
      "source": [
        "##### **2. `Humidity = 20` and `Pressure = 10.2`**"
      ]
    },
    {
      "cell_type": "code",
      "execution_count": null,
      "metadata": {
        "id": "VTLyr-A0xWBG",
        "tags": []
      },
      "outputs": [],
      "source": [
        "# Type your code here"
      ]
    }
  ]
}